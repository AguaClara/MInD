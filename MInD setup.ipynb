{
  "nbformat": 4,
  "nbformat_minor": 0,
  "metadata": {
    "colab": {
      "name": "MInD.ipynb",
      "provenance": [],
      "collapsed_sections": []
    },
    "kernelspec": {
      "name": "python3",
      "display_name": "Python 3"
    },
    "language_info": {
      "name": "python"
    }
  },
  "cells": [
    {
      "cell_type": "code",
      "source": [
        ""
      ],
      "metadata": {
        "id": "_XjoGAVRkwgy"
      },
      "execution_count": null,
      "outputs": []
    },
    {
      "cell_type": "markdown",
      "source": [
        "Model Interface Development (MInD)\n",
        "\n",
        "Team Members: Christopher Chan, Josh De Leeuw, Kelly Tran, Michael Wei\n",
        "\n",
        "Research Advisor: Jeff Shen"
      ],
      "metadata": {
        "id": "lw0R5hgfkpBh"
      }
    },
    {
      "cell_type": "markdown",
      "source": [
        "Goals: \n",
        "\n",
        "\n",
        "*   Develop a model for coagulant dosaging algorithm based on influent turbidity and performance of unit processes.\n",
        "\n",
        "\n"
      ],
      "metadata": {
        "id": "66i0vdXHkPV3"
      }
    },
    {
      "cell_type": "code",
      "source": [
        ""
      ],
      "metadata": {
        "id": "monhNQk1mT_7"
      },
      "execution_count": null,
      "outputs": []
    },
    {
      "cell_type": "markdown",
      "source": [
        "#Equations\n",
        "##Definitions\n",
        "*   NTU - Nephelometric Turbidity Units\n",
        "\n",
        "Note: use `snake_case` for variable declarations\n",
        "##Variable Definitions\n",
        "* $Q_{process}$ = `q_process`\n",
        "* $Q_{in}$ = `q_in`\n",
        "* $Q_{out}$ = `q_out`\n",
        "* $Q_{flocculator}$ = `q_floc`\n",
        "* $Q_{raw \\hspace{1mm} water}$ = `q_rw`\n",
        "* $Q_{flocculator \\hspace{1mm} action}$ = `q_fa`\n",
        "* $Q_{primary \\hspace{1mm} particles}$ = `q_pp`\n",
        "* $Turbidity_{raw \\hspace{1mm} water}$ = `turb_rw`\n",
        "* $Q_{}$ = ``\n",
        "* $Q_{}$ = ``\n",
        "* $Q_{}$ = ``\n",
        "* $Q_{}$ = ``\n",
        "* $Q_{}$ = ``\n",
        "\n",
        "$Q_{process} (\\frac{NTU}{Time}) = Q_{in} - Q_{out}$"
      ],
      "metadata": {
        "id": "aLCceKkhpGbd"
      }
    },
    {
      "cell_type": "code",
      "source": [
        "q_process = q_in - q_out"
      ],
      "metadata": {
        "id": "r1uZ7A0hqzCN"
      },
      "execution_count": null,
      "outputs": []
    }
  ]
}