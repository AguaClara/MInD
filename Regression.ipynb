{
  "nbformat": 4,
  "nbformat_minor": 0,
  "metadata": {
    "colab": {
      "name": "Regression.ipynb",
      "provenance": [],
      "collapsed_sections": []
    },
    "kernelspec": {
      "name": "python3",
      "display_name": "Python 3"
    },
    "language_info": {
      "name": "python"
    }
  },
  "cells": [
    {
      "cell_type": "code",
      "execution_count": 14,
      "metadata": {
        "colab": {
          "base_uri": "https://localhost:8080/"
        },
        "id": "RrMZjPZmsi-5",
        "outputId": "993eb5fc-bf65-46e3-f0dc-0b92bb2aa996"
      },
      "outputs": [
        {
          "output_type": "stream",
          "name": "stdout",
          "text": [
            "                            OLS Regression Results                            \n",
            "==============================================================================\n",
            "Dep. Variable:                      z   R-squared:                       1.000\n",
            "Model:                            OLS   Adj. R-squared:                  1.000\n",
            "Method:                 Least Squares   F-statistic:                 4.938e+17\n",
            "Date:                Tue, 10 May 2022   Prob (F-statistic):           9.48e-61\n",
            "Time:                        02:26:06   Log-Likelihood:                 153.51\n",
            "No. Observations:                  10   AIC:                            -301.0\n",
            "Df Residuals:                       7   BIC:                            -300.1\n",
            "Df Model:                           2                                         \n",
            "Covariance Type:            nonrobust                                         \n",
            "==============================================================================\n",
            "                 coef    std err          t      P>|t|      [0.025      0.975]\n",
            "------------------------------------------------------------------------------\n",
            "const       1.278e-09   2.56e-08      0.050      0.962   -5.92e-08    6.17e-08\n",
            "x             -0.3403      7.927     -0.043      0.967     -19.085      18.404\n",
            "y              0.4170      0.020     21.204      0.000       0.370       0.463\n",
            "==============================================================================\n",
            "Omnibus:                       13.451   Durbin-Watson:                   0.251\n",
            "Prob(Omnibus):                  0.001   Jarque-Bera (JB):                6.604\n",
            "Skew:                          -1.764   Prob(JB):                       0.0368\n",
            "Kurtosis:                       4.844   Cond. No.                     2.27e+10\n",
            "==============================================================================\n",
            "\n",
            "Warnings:\n",
            "[1] Standard Errors assume that the covariance matrix of the errors is correctly specified.\n",
            "[2] The smallest eigenvalue is 6.17e-17. This might indicate that there are\n",
            "strong multicollinearity problems or that the design matrix is singular.\n"
          ]
        },
        {
          "output_type": "stream",
          "name": "stderr",
          "text": [
            "/usr/local/lib/python3.7/dist-packages/statsmodels/tsa/tsatools.py:117: FutureWarning: In a future version of pandas all arguments of concat except for the argument 'objs' will be keyword-only\n",
            "  x = pd.concat(x[::order], 1)\n",
            "/usr/local/lib/python3.7/dist-packages/scipy/stats/stats.py:1535: UserWarning: kurtosistest only valid for n>=20 ... continuing anyway, n=10\n",
            "  \"anyway, n=%i\" % int(n))\n"
          ]
        }
      ],
      "source": [
        "import statsmodels.api as sm\n",
        "import pandas as pd\n",
        "\n",
        "# input data here\n",
        "X = [0.0008383,\n",
        "0.00165481,\n",
        "0.00326658,\n",
        "0.00644822,\n",
        "0.01272877,\n",
        "0.02512655,\n",
        "0.04959972,\n",
        "0.09790967,\n",
        "0.19327335,\n",
        "0.38152093]\n",
        "\n",
        "Y = [0.33792094,\n",
        "0.66705475,\n",
        "1.31676376,\n",
        "2.59928708,\n",
        "5.13098364,\n",
        "10.12854384,\n",
        "19.99371027,\n",
        "39.46751443,\n",
        "77.90873603,\n",
        "153.7915736]\n",
        "\n",
        "Z = [0.140625,\n",
        "0.27759326,\n",
        "0.54796813,\n",
        "1.08168718,\n",
        "2.13524672,\n",
        "4.21496959,\n",
        "8.32033529,\n",
        "16.42431289,\n",
        "32.42153643,\n",
        "64]\n",
        "\n",
        "df = pd.DataFrame({'x':X, 'y':Y, 'z':Z})\n",
        "\n",
        "A = df[['x', 'y']]\n",
        "B = df['z']\n",
        "A = sm.add_constant(A)\n",
        "\n",
        "line = sm.OLS(B, A).fit()\n",
        "print (line.summary())\n",
        "\n"
      ]
    },
    {
      "cell_type": "code",
      "source": [
        "X = [2.135, 4.215, 4.5, 8.32]\n",
        "Y = [.422, .28, .287, .256]\n",
        "\n",
        "df = pd.DataFrame({'x': X, 'y': Y})\n",
        "\n",
        "C = df['x']\n",
        "D = df['y']\n",
        "\n",
        "D = sm.add_constant(D)\n",
        "line = sm.OLS(C, D).fit()\n",
        "print (line.summary())"
      ],
      "metadata": {
        "colab": {
          "base_uri": "https://localhost:8080/"
        },
        "id": "Uxw2aa9FytWY",
        "outputId": "479c5733-7c00-4c01-d650-9a0aa3c21b55"
      },
      "execution_count": 18,
      "outputs": [
        {
          "output_type": "stream",
          "name": "stdout",
          "text": [
            "                            OLS Regression Results                            \n",
            "==============================================================================\n",
            "Dep. Variable:                      x   R-squared:                       0.640\n",
            "Model:                            OLS   Adj. R-squared:                  0.460\n",
            "Method:                 Least Squares   F-statistic:                     3.559\n",
            "Date:                Tue, 10 May 2022   Prob (F-statistic):              0.200\n",
            "Time:                        02:37:23   Log-Likelihood:                -6.8425\n",
            "No. Observations:                   4   AIC:                             17.68\n",
            "Df Residuals:                       2   BIC:                             16.46\n",
            "Df Model:                           1                                         \n",
            "Covariance Type:            nonrobust                                         \n",
            "==============================================================================\n",
            "                 coef    std err          t      P>|t|      [0.025      0.975]\n",
            "------------------------------------------------------------------------------\n",
            "const         13.3481      4.633      2.881      0.102      -6.585      33.281\n",
            "y            -27.4880     14.570     -1.887      0.200     -90.179      35.203\n",
            "==============================================================================\n",
            "Omnibus:                          nan   Durbin-Watson:                   1.724\n",
            "Prob(Omnibus):                    nan   Jarque-Bera (JB):                0.431\n",
            "Skew:                           0.450   Prob(JB):                        0.806\n",
            "Kurtosis:                       1.667   Cond. No.                         16.9\n",
            "==============================================================================\n",
            "\n",
            "Warnings:\n",
            "[1] Standard Errors assume that the covariance matrix of the errors is correctly specified.\n"
          ]
        },
        {
          "output_type": "stream",
          "name": "stderr",
          "text": [
            "/usr/local/lib/python3.7/dist-packages/statsmodels/tsa/tsatools.py:117: FutureWarning: In a future version of pandas all arguments of concat except for the argument 'objs' will be keyword-only\n",
            "  x = pd.concat(x[::order], 1)\n",
            "/usr/local/lib/python3.7/dist-packages/statsmodels/stats/stattools.py:71: ValueWarning: omni_normtest is not valid with less than 8 observations; 4 samples were given.\n",
            "  \"samples were given.\" % int(n), ValueWarning)\n"
          ]
        }
      ]
    }
  ]
}